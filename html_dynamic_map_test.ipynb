{
 "cells": [
  {
   "cell_type": "code",
   "execution_count": null,
   "id": "initial_id",
   "metadata": {
    "collapsed": true
   },
   "outputs": [],
   "source": [
    "# AmazonSPE_20240109_res10_strata_map_with_dem_ndvi_grid40m%201.html"
   ]
  },
  {
   "cell_type": "code",
   "outputs": [
    {
     "name": "stdout",
     "output_type": "stream",
     "text": [
      "Collecting folium\n",
      "  Obtaining dependency information for folium from https://files.pythonhosted.org/packages/ae/6d/18a7546e1748ecdd6ed7cd00d3f183faf1df08bd4f5e5e0eb3e72458b862/folium-0.17.0-py2.py3-none-any.whl.metadata\n",
      "  Downloading folium-0.17.0-py2.py3-none-any.whl.metadata (3.8 kB)\n",
      "Collecting branca>=0.6.0 (from folium)\n",
      "  Obtaining dependency information for branca>=0.6.0 from https://files.pythonhosted.org/packages/fc/be/720f85abacd654ec86f1431bc7c004eae74417bd9d0e7a2bc43601062627/branca-0.8.0-py3-none-any.whl.metadata\n",
      "  Downloading branca-0.8.0-py3-none-any.whl.metadata (1.5 kB)\n",
      "Requirement already satisfied: jinja2>=2.9 in d:\\engenuityai\\testprojects\\python_pptx_to_pdf\\.venv\\lib\\site-packages (from folium) (3.1.4)\n",
      "Collecting numpy (from folium)\n",
      "  Obtaining dependency information for numpy from https://files.pythonhosted.org/packages/c2/3d/293cc5927f916a7bc6bf74da8f6defab63d1b13f0959d7e21878ad8a20d8/numpy-2.1.2-cp310-cp310-win_amd64.whl.metadata\n",
      "  Downloading numpy-2.1.2-cp310-cp310-win_amd64.whl.metadata (59 kB)\n",
      "     ---------------------------------------- 0.0/59.7 kB ? eta -:--:--\n",
      "     ---------------------------------------- 59.7/59.7 kB 1.6 MB/s eta 0:00:00\n",
      "Requirement already satisfied: requests in d:\\engenuityai\\testprojects\\python_pptx_to_pdf\\.venv\\lib\\site-packages (from folium) (2.32.3)\n",
      "Collecting xyzservices (from folium)\n",
      "  Obtaining dependency information for xyzservices from https://files.pythonhosted.org/packages/4c/d3/e07ce413d16ef64e885bea37551eac4c5ca3ddd440933f9c94594273d0d9/xyzservices-2024.9.0-py3-none-any.whl.metadata\n",
      "  Downloading xyzservices-2024.9.0-py3-none-any.whl.metadata (4.1 kB)\n",
      "Requirement already satisfied: MarkupSafe>=2.0 in d:\\engenuityai\\testprojects\\python_pptx_to_pdf\\.venv\\lib\\site-packages (from jinja2>=2.9->folium) (3.0.0)\n",
      "Requirement already satisfied: charset-normalizer<4,>=2 in d:\\engenuityai\\testprojects\\python_pptx_to_pdf\\.venv\\lib\\site-packages (from requests->folium) (3.3.2)\n",
      "Requirement already satisfied: idna<4,>=2.5 in d:\\engenuityai\\testprojects\\python_pptx_to_pdf\\.venv\\lib\\site-packages (from requests->folium) (3.10)\n",
      "Requirement already satisfied: urllib3<3,>=1.21.1 in d:\\engenuityai\\testprojects\\python_pptx_to_pdf\\.venv\\lib\\site-packages (from requests->folium) (2.2.3)\n",
      "Requirement already satisfied: certifi>=2017.4.17 in d:\\engenuityai\\testprojects\\python_pptx_to_pdf\\.venv\\lib\\site-packages (from requests->folium) (2024.8.30)\n",
      "Downloading folium-0.17.0-py2.py3-none-any.whl (108 kB)\n",
      "   ---------------------------------------- 0.0/108.4 kB ? eta -:--:--\n",
      "   ------------------------------------- -- 102.4/108.4 kB 3.0 MB/s eta 0:00:01\n",
      "   ---------------------------------------- 108.4/108.4 kB 2.1 MB/s eta 0:00:00\n",
      "Downloading branca-0.8.0-py3-none-any.whl (25 kB)\n",
      "Downloading numpy-2.1.2-cp310-cp310-win_amd64.whl (12.9 MB)\n",
      "   ---------------------------------------- 0.0/12.9 MB ? eta -:--:--\n",
      "    --------------------------------------- 0.2/12.9 MB 5.3 MB/s eta 0:00:03\n",
      "   - -------------------------------------- 0.5/12.9 MB 6.2 MB/s eta 0:00:03\n",
      "   --- ------------------------------------ 1.2/12.9 MB 9.7 MB/s eta 0:00:02\n",
      "   -------- ------------------------------- 2.6/12.9 MB 15.3 MB/s eta 0:00:01\n",
      "   -------------- ------------------------- 4.7/12.9 MB 21.5 MB/s eta 0:00:01\n",
      "   ---------------------- ----------------- 7.2/12.9 MB 27.1 MB/s eta 0:00:01\n",
      "   ------------------------- -------------- 8.2/12.9 MB 29.0 MB/s eta 0:00:01\n",
      "   -------------------------- ------------- 8.4/12.9 MB 24.4 MB/s eta 0:00:01\n",
      "   --------------------------------- ------ 10.7/12.9 MB 31.2 MB/s eta 0:00:01\n",
      "   ---------------------------------------  12.9/12.9 MB 38.6 MB/s eta 0:00:01\n",
      "   ---------------------------------------- 12.9/12.9 MB 34.4 MB/s eta 0:00:00\n",
      "Downloading xyzservices-2024.9.0-py3-none-any.whl (85 kB)\n",
      "   ---------------------------------------- 0.0/85.1 kB ? eta -:--:--\n",
      "   ---------------------------------------- 85.1/85.1 kB 4.7 MB/s eta 0:00:00\n",
      "Installing collected packages: xyzservices, numpy, branca, folium\n",
      "Successfully installed branca-0.8.0 folium-0.17.0 numpy-2.1.2 xyzservices-2024.9.0\n"
     ]
    },
    {
     "name": "stderr",
     "output_type": "stream",
     "text": [
      "\n",
      "[notice] A new release of pip is available: 23.2.1 -> 24.2\n",
      "[notice] To update, run: python.exe -m pip install --upgrade pip\n"
     ]
    }
   ],
   "source": [
    "#!pip install folium"
   ],
   "metadata": {
    "collapsed": false,
    "ExecuteTime": {
     "end_time": "2024-10-08T09:45:28.857504Z",
     "start_time": "2024-10-08T09:45:21.920793Z"
    }
   },
   "id": "8c700f5e172b3ad9",
   "execution_count": 1
  },
  {
   "cell_type": "code",
   "outputs": [],
   "source": [
    "import folium\n",
    "\n",
    "m = folium.Map(locaation=[7.214308, 80.64008010630681], zoom_start=5)"
   ],
   "metadata": {
    "collapsed": false,
    "ExecuteTime": {
     "end_time": "2024-10-08T09:48:14.918135Z",
     "start_time": "2024-10-08T09:48:14.896448Z"
    }
   },
   "id": "62859d3d43519b25",
   "execution_count": 7
  },
  {
   "cell_type": "code",
   "outputs": [
    {
     "data": {
      "text/plain": "<folium.folium.Map at 0x1e2046c8a30>",
      "text/html": "<div style=\"width:100%;\"><div style=\"position:relative;width:100%;height:0;padding-bottom:60%;\"><span style=\"color:#565656\">Make this Notebook Trusted to load map: File -> Trust Notebook</span><iframe srcdoc=\"&lt;!DOCTYPE html&gt;\n&lt;html&gt;\n&lt;head&gt;\n    \n    &lt;meta http-equiv=&quot;content-type&quot; content=&quot;text/html; charset=UTF-8&quot; /&gt;\n    \n        &lt;script&gt;\n            L_NO_TOUCH = false;\n            L_DISABLE_3D = false;\n        &lt;/script&gt;\n    \n    &lt;style&gt;html, body {width: 100%;height: 100%;margin: 0;padding: 0;}&lt;/style&gt;\n    &lt;style&gt;#map {position:absolute;top:0;bottom:0;right:0;left:0;}&lt;/style&gt;\n    &lt;script src=&quot;https://cdn.jsdelivr.net/npm/leaflet@1.9.3/dist/leaflet.js&quot;&gt;&lt;/script&gt;\n    &lt;script src=&quot;https://code.jquery.com/jquery-3.7.1.min.js&quot;&gt;&lt;/script&gt;\n    &lt;script src=&quot;https://cdn.jsdelivr.net/npm/bootstrap@5.2.2/dist/js/bootstrap.bundle.min.js&quot;&gt;&lt;/script&gt;\n    &lt;script src=&quot;https://cdnjs.cloudflare.com/ajax/libs/Leaflet.awesome-markers/2.0.2/leaflet.awesome-markers.js&quot;&gt;&lt;/script&gt;\n    &lt;link rel=&quot;stylesheet&quot; href=&quot;https://cdn.jsdelivr.net/npm/leaflet@1.9.3/dist/leaflet.css&quot;/&gt;\n    &lt;link rel=&quot;stylesheet&quot; href=&quot;https://cdn.jsdelivr.net/npm/bootstrap@5.2.2/dist/css/bootstrap.min.css&quot;/&gt;\n    &lt;link rel=&quot;stylesheet&quot; href=&quot;https://netdna.bootstrapcdn.com/bootstrap/3.0.0/css/bootstrap-glyphicons.css&quot;/&gt;\n    &lt;link rel=&quot;stylesheet&quot; href=&quot;https://cdn.jsdelivr.net/npm/@fortawesome/fontawesome-free@6.2.0/css/all.min.css&quot;/&gt;\n    &lt;link rel=&quot;stylesheet&quot; href=&quot;https://cdnjs.cloudflare.com/ajax/libs/Leaflet.awesome-markers/2.0.2/leaflet.awesome-markers.css&quot;/&gt;\n    &lt;link rel=&quot;stylesheet&quot; href=&quot;https://cdn.jsdelivr.net/gh/python-visualization/folium/folium/templates/leaflet.awesome.rotate.min.css&quot;/&gt;\n    \n            &lt;meta name=&quot;viewport&quot; content=&quot;width=device-width,\n                initial-scale=1.0, maximum-scale=1.0, user-scalable=no&quot; /&gt;\n            &lt;style&gt;\n                #map_3c8e55f8080f10e29b72feb9160d88a5 {\n                    position: relative;\n                    width: 100.0%;\n                    height: 100.0%;\n                    left: 0.0%;\n                    top: 0.0%;\n                }\n                .leaflet-container { font-size: 1rem; }\n            &lt;/style&gt;\n        \n&lt;/head&gt;\n&lt;body&gt;\n    \n    \n            &lt;div class=&quot;folium-map&quot; id=&quot;map_3c8e55f8080f10e29b72feb9160d88a5&quot; &gt;&lt;/div&gt;\n        \n&lt;/body&gt;\n&lt;script&gt;\n    \n    \n            var map_3c8e55f8080f10e29b72feb9160d88a5 = L.map(\n                &quot;map_3c8e55f8080f10e29b72feb9160d88a5&quot;,\n                {\n                    center: [0.0, 0.0],\n                    crs: L.CRS.EPSG3857,\n                    zoom: 1,\n                    zoomControl: true,\n                    preferCanvas: false,\n                    locaation: [7.214308, 80.64008010630681],\n                }\n            );\n\n            \n\n        \n    \n            var tile_layer_22dfb2d8411a49f9c389d64a260a0bec = L.tileLayer(\n                &quot;https://tile.openstreetmap.org/{z}/{x}/{y}.png&quot;,\n                {&quot;attribution&quot;: &quot;\\u0026copy; \\u003ca href=\\&quot;https://www.openstreetmap.org/copyright\\&quot;\\u003eOpenStreetMap\\u003c/a\\u003e contributors&quot;, &quot;detectRetina&quot;: false, &quot;maxNativeZoom&quot;: 19, &quot;maxZoom&quot;: 19, &quot;minZoom&quot;: 0, &quot;noWrap&quot;: false, &quot;opacity&quot;: 1, &quot;subdomains&quot;: &quot;abc&quot;, &quot;tms&quot;: false}\n            );\n        \n    \n            tile_layer_22dfb2d8411a49f9c389d64a260a0bec.addTo(map_3c8e55f8080f10e29b72feb9160d88a5);\n        \n&lt;/script&gt;\n&lt;/html&gt;\" style=\"position:absolute;width:100%;height:100%;left:0;top:0;border:none !important;\" allowfullscreen webkitallowfullscreen mozallowfullscreen></iframe></div></div>"
     },
     "execution_count": 8,
     "metadata": {},
     "output_type": "execute_result"
    }
   ],
   "source": [
    "m"
   ],
   "metadata": {
    "collapsed": false,
    "ExecuteTime": {
     "end_time": "2024-10-08T09:48:16.465108Z",
     "start_time": "2024-10-08T09:48:16.449636Z"
    }
   },
   "id": "c734f84aa0ae3c5f",
   "execution_count": 8
  },
  {
   "cell_type": "code",
   "outputs": [],
   "source": [
    "from IPython.display import IFrame\n",
    "\n",
    "test = IFrame(src='input_files/AmazonSPE_20240109_res10_strata_map_with_dem_ndvi_grid40m%201.html', width=700, height=600)\n",
    "# width and height may be manually specified depending on the land size"
   ],
   "metadata": {
    "collapsed": false,
    "ExecuteTime": {
     "end_time": "2024-10-08T09:56:42.311336Z",
     "start_time": "2024-10-08T09:56:42.304377Z"
    }
   },
   "id": "ee7fb201c7ef1f23",
   "execution_count": 14
  },
  {
   "cell_type": "code",
   "outputs": [
    {
     "data": {
      "text/plain": "<IPython.lib.display.IFrame at 0x1e2046ca950>",
      "text/html": "\n        <iframe\n            width=\"700\"\n            height=\"600\"\n            src=\"input_files/AmazonSPE_20240109_res10_strata_map_with_dem_ndvi_grid40m%201.html\"\n            frameborder=\"0\"\n            allowfullscreen\n            \n        ></iframe>\n        "
     },
     "execution_count": 15,
     "metadata": {},
     "output_type": "execute_result"
    }
   ],
   "source": [
    "test"
   ],
   "metadata": {
    "collapsed": false,
    "ExecuteTime": {
     "end_time": "2024-10-08T09:56:42.561913Z",
     "start_time": "2024-10-08T09:56:42.543789Z"
    }
   },
   "id": "d4d73b8c16d8c841",
   "execution_count": 15
  },
  {
   "cell_type": "code",
   "outputs": [
    {
     "name": "stdout",
     "output_type": "stream",
     "text": [
      "Collecting html2image\n",
      "  Obtaining dependency information for html2image from https://files.pythonhosted.org/packages/ef/c5/2958b772f07a65dbfb332f8a405b523fc685c9ab088a2b389796d02ad434/html2image-2.0.5-py3-none-any.whl.metadata\n",
      "  Downloading html2image-2.0.5-py3-none-any.whl.metadata (15 kB)\n",
      "Requirement already satisfied: requests in d:\\engenuityai\\testprojects\\python_pptx_to_pdf\\.venv\\lib\\site-packages (from html2image) (2.32.3)\n",
      "Requirement already satisfied: websocket-client==1.* in d:\\engenuityai\\testprojects\\python_pptx_to_pdf\\.venv\\lib\\site-packages (from html2image) (1.8.0)\n",
      "Requirement already satisfied: charset-normalizer<4,>=2 in d:\\engenuityai\\testprojects\\python_pptx_to_pdf\\.venv\\lib\\site-packages (from requests->html2image) (3.3.2)\n",
      "Requirement already satisfied: idna<4,>=2.5 in d:\\engenuityai\\testprojects\\python_pptx_to_pdf\\.venv\\lib\\site-packages (from requests->html2image) (3.10)\n",
      "Requirement already satisfied: urllib3<3,>=1.21.1 in d:\\engenuityai\\testprojects\\python_pptx_to_pdf\\.venv\\lib\\site-packages (from requests->html2image) (2.2.3)\n",
      "Requirement already satisfied: certifi>=2017.4.17 in d:\\engenuityai\\testprojects\\python_pptx_to_pdf\\.venv\\lib\\site-packages (from requests->html2image) (2024.8.30)\n",
      "Downloading html2image-2.0.5-py3-none-any.whl (28 kB)\n",
      "Installing collected packages: html2image\n",
      "Successfully installed html2image-2.0.5\n"
     ]
    },
    {
     "name": "stderr",
     "output_type": "stream",
     "text": [
      "\n",
      "[notice] A new release of pip is available: 23.2.1 -> 24.2\n",
      "[notice] To update, run: python.exe -m pip install --upgrade pip\n"
     ]
    }
   ],
   "source": [
    "!pip install html2image"
   ],
   "metadata": {
    "collapsed": false,
    "ExecuteTime": {
     "end_time": "2024-10-08T10:14:28.034496Z",
     "start_time": "2024-10-08T10:14:26.019337Z"
    }
   },
   "id": "acdc4789750b0806",
   "execution_count": 16
  },
  {
   "cell_type": "code",
   "outputs": [],
   "source": [
    "from html2image import Html2Image\n",
    "hti = Html2Image()"
   ],
   "metadata": {
    "collapsed": false,
    "ExecuteTime": {
     "end_time": "2024-10-08T10:14:34.660105Z",
     "start_time": "2024-10-08T10:14:34.636533Z"
    }
   },
   "id": "a3621498237e62ef",
   "execution_count": 17
  },
  {
   "cell_type": "code",
   "outputs": [],
   "source": [
    "# screenshot an HTML file\n",
    "test2 = hti.screenshot(\n",
    "    html_file='input_files/AmazonSPE_20240109_res10_strata_map_with_dem_ndvi_grid40m 1.html', save_as='page2.png'\n",
    ")\n",
    "\n",
    "# screenshot an URL\n",
    "# test2 = hti.screenshot(url='input_files/AmazonSPE_20240109_res10_strata_map_with_dem_ndvi_grid40m 1.html', save_as='python_org.png')"
   ],
   "metadata": {
    "collapsed": false,
    "ExecuteTime": {
     "end_time": "2024-10-08T10:18:56.337402Z",
     "start_time": "2024-10-08T10:18:12.362828Z"
    }
   },
   "id": "9879f81082fc372",
   "execution_count": 22
  },
  {
   "cell_type": "code",
   "outputs": [
    {
     "data": {
      "text/plain": "['D:\\\\EngenuityAI\\\\TestProjects\\\\Python_PPTX_to_PDF\\\\page2.png']"
     },
     "execution_count": 23,
     "metadata": {},
     "output_type": "execute_result"
    }
   ],
   "source": [
    "test2"
   ],
   "metadata": {
    "collapsed": false,
    "ExecuteTime": {
     "end_time": "2024-10-08T10:18:56.354055Z",
     "start_time": "2024-10-08T10:18:56.339398Z"
    }
   },
   "id": "b6e06d5a54836c49",
   "execution_count": 23
  },
  {
   "cell_type": "code",
   "outputs": [],
   "source": [],
   "metadata": {
    "collapsed": false
   },
   "id": "90434c573024b868"
  }
 ],
 "metadata": {
  "kernelspec": {
   "display_name": "Python 3",
   "language": "python",
   "name": "python3"
  },
  "language_info": {
   "codemirror_mode": {
    "name": "ipython",
    "version": 2
   },
   "file_extension": ".py",
   "mimetype": "text/x-python",
   "name": "python",
   "nbconvert_exporter": "python",
   "pygments_lexer": "ipython2",
   "version": "2.7.6"
  }
 },
 "nbformat": 4,
 "nbformat_minor": 5
}
