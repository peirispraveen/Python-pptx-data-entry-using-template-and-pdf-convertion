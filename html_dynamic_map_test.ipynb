{
 "cells": [
  {
   "cell_type": "code",
   "execution_count": null,
   "id": "initial_id",
   "metadata": {
    "collapsed": true
   },
   "outputs": [],
   "source": [
    "# AmazonSPE_20240109_res10_strata_map_with_dem_ndvi_grid40m%201.html"
   ]
  },
  {
   "cell_type": "code",
   "outputs": [
    {
     "name": "stdout",
     "output_type": "stream",
     "text": [
      "Collecting folium\n",
      "  Obtaining dependency information for folium from https://files.pythonhosted.org/packages/ae/6d/18a7546e1748ecdd6ed7cd00d3f183faf1df08bd4f5e5e0eb3e72458b862/folium-0.17.0-py2.py3-none-any.whl.metadata\n",
      "  Downloading folium-0.17.0-py2.py3-none-any.whl.metadata (3.8 kB)\n",
      "Collecting branca>=0.6.0 (from folium)\n",
      "  Obtaining dependency information for branca>=0.6.0 from https://files.pythonhosted.org/packages/fc/be/720f85abacd654ec86f1431bc7c004eae74417bd9d0e7a2bc43601062627/branca-0.8.0-py3-none-any.whl.metadata\n",
      "  Downloading branca-0.8.0-py3-none-any.whl.metadata (1.5 kB)\n",
      "Requirement already satisfied: jinja2>=2.9 in d:\\engenuityai\\testprojects\\python_pptx_to_pdf\\.venv\\lib\\site-packages (from folium) (3.1.4)\n",
      "Collecting numpy (from folium)\n",
      "  Obtaining dependency information for numpy from https://files.pythonhosted.org/packages/c2/3d/293cc5927f916a7bc6bf74da8f6defab63d1b13f0959d7e21878ad8a20d8/numpy-2.1.2-cp310-cp310-win_amd64.whl.metadata\n",
      "  Downloading numpy-2.1.2-cp310-cp310-win_amd64.whl.metadata (59 kB)\n",
      "     ---------------------------------------- 0.0/59.7 kB ? eta -:--:--\n",
      "     ---------------------------------------- 59.7/59.7 kB 1.6 MB/s eta 0:00:00\n",
      "Requirement already satisfied: requests in d:\\engenuityai\\testprojects\\python_pptx_to_pdf\\.venv\\lib\\site-packages (from folium) (2.32.3)\n",
      "Collecting xyzservices (from folium)\n",
      "  Obtaining dependency information for xyzservices from https://files.pythonhosted.org/packages/4c/d3/e07ce413d16ef64e885bea37551eac4c5ca3ddd440933f9c94594273d0d9/xyzservices-2024.9.0-py3-none-any.whl.metadata\n",
      "  Downloading xyzservices-2024.9.0-py3-none-any.whl.metadata (4.1 kB)\n",
      "Requirement already satisfied: MarkupSafe>=2.0 in d:\\engenuityai\\testprojects\\python_pptx_to_pdf\\.venv\\lib\\site-packages (from jinja2>=2.9->folium) (3.0.0)\n",
      "Requirement already satisfied: charset-normalizer<4,>=2 in d:\\engenuityai\\testprojects\\python_pptx_to_pdf\\.venv\\lib\\site-packages (from requests->folium) (3.3.2)\n",
      "Requirement already satisfied: idna<4,>=2.5 in d:\\engenuityai\\testprojects\\python_pptx_to_pdf\\.venv\\lib\\site-packages (from requests->folium) (3.10)\n",
      "Requirement already satisfied: urllib3<3,>=1.21.1 in d:\\engenuityai\\testprojects\\python_pptx_to_pdf\\.venv\\lib\\site-packages (from requests->folium) (2.2.3)\n",
      "Requirement already satisfied: certifi>=2017.4.17 in d:\\engenuityai\\testprojects\\python_pptx_to_pdf\\.venv\\lib\\site-packages (from requests->folium) (2024.8.30)\n",
      "Downloading folium-0.17.0-py2.py3-none-any.whl (108 kB)\n",
      "   ---------------------------------------- 0.0/108.4 kB ? eta -:--:--\n",
      "   ------------------------------------- -- 102.4/108.4 kB 3.0 MB/s eta 0:00:01\n",
      "   ---------------------------------------- 108.4/108.4 kB 2.1 MB/s eta 0:00:00\n",
      "Downloading branca-0.8.0-py3-none-any.whl (25 kB)\n",
      "Downloading numpy-2.1.2-cp310-cp310-win_amd64.whl (12.9 MB)\n",
      "   ---------------------------------------- 0.0/12.9 MB ? eta -:--:--\n",
      "    --------------------------------------- 0.2/12.9 MB 5.3 MB/s eta 0:00:03\n",
      "   - -------------------------------------- 0.5/12.9 MB 6.2 MB/s eta 0:00:03\n",
      "   --- ------------------------------------ 1.2/12.9 MB 9.7 MB/s eta 0:00:02\n",
      "   -------- ------------------------------- 2.6/12.9 MB 15.3 MB/s eta 0:00:01\n",
      "   -------------- ------------------------- 4.7/12.9 MB 21.5 MB/s eta 0:00:01\n",
      "   ---------------------- ----------------- 7.2/12.9 MB 27.1 MB/s eta 0:00:01\n",
      "   ------------------------- -------------- 8.2/12.9 MB 29.0 MB/s eta 0:00:01\n",
      "   -------------------------- ------------- 8.4/12.9 MB 24.4 MB/s eta 0:00:01\n",
      "   --------------------------------- ------ 10.7/12.9 MB 31.2 MB/s eta 0:00:01\n",
      "   ---------------------------------------  12.9/12.9 MB 38.6 MB/s eta 0:00:01\n",
      "   ---------------------------------------- 12.9/12.9 MB 34.4 MB/s eta 0:00:00\n",
      "Downloading xyzservices-2024.9.0-py3-none-any.whl (85 kB)\n",
      "   ---------------------------------------- 0.0/85.1 kB ? eta -:--:--\n",
      "   ---------------------------------------- 85.1/85.1 kB 4.7 MB/s eta 0:00:00\n",
      "Installing collected packages: xyzservices, numpy, branca, folium\n",
      "Successfully installed branca-0.8.0 folium-0.17.0 numpy-2.1.2 xyzservices-2024.9.0\n"
     ]
    },
    {
     "name": "stderr",
     "output_type": "stream",
     "text": [
      "\n",
      "[notice] A new release of pip is available: 23.2.1 -> 24.2\n",
      "[notice] To update, run: python.exe -m pip install --upgrade pip\n"
     ]
    }
   ],
   "source": [
    "#!pip install folium"
   ],
   "metadata": {
    "collapsed": false,
    "ExecuteTime": {
     "end_time": "2024-10-08T09:45:28.857504Z",
     "start_time": "2024-10-08T09:45:21.920793Z"
    }
   },
   "id": "8c700f5e172b3ad9",
   "execution_count": 1
  },
  {
   "cell_type": "code",
   "outputs": [
    {
     "data": {
      "text/plain": "<folium.folium.Map at 0x2513963e8f0>",
      "text/html": "<div style=\"width:100%;\"><div style=\"position:relative;width:100%;height:0;padding-bottom:60%;\"><span style=\"color:#565656\">Make this Notebook Trusted to load map: File -> Trust Notebook</span><iframe srcdoc=\"&lt;!DOCTYPE html&gt;\n&lt;html&gt;\n&lt;head&gt;\n    \n    &lt;meta http-equiv=&quot;content-type&quot; content=&quot;text/html; charset=UTF-8&quot; /&gt;\n    \n        &lt;script&gt;\n            L_NO_TOUCH = false;\n            L_DISABLE_3D = false;\n        &lt;/script&gt;\n    \n    &lt;style&gt;html, body {width: 100%;height: 100%;margin: 0;padding: 0;}&lt;/style&gt;\n    &lt;style&gt;#map {position:absolute;top:0;bottom:0;right:0;left:0;}&lt;/style&gt;\n    &lt;script src=&quot;https://cdn.jsdelivr.net/npm/leaflet@1.9.3/dist/leaflet.js&quot;&gt;&lt;/script&gt;\n    &lt;script src=&quot;https://code.jquery.com/jquery-3.7.1.min.js&quot;&gt;&lt;/script&gt;\n    &lt;script src=&quot;https://cdn.jsdelivr.net/npm/bootstrap@5.2.2/dist/js/bootstrap.bundle.min.js&quot;&gt;&lt;/script&gt;\n    &lt;script src=&quot;https://cdnjs.cloudflare.com/ajax/libs/Leaflet.awesome-markers/2.0.2/leaflet.awesome-markers.js&quot;&gt;&lt;/script&gt;\n    &lt;link rel=&quot;stylesheet&quot; href=&quot;https://cdn.jsdelivr.net/npm/leaflet@1.9.3/dist/leaflet.css&quot;/&gt;\n    &lt;link rel=&quot;stylesheet&quot; href=&quot;https://cdn.jsdelivr.net/npm/bootstrap@5.2.2/dist/css/bootstrap.min.css&quot;/&gt;\n    &lt;link rel=&quot;stylesheet&quot; href=&quot;https://netdna.bootstrapcdn.com/bootstrap/3.0.0/css/bootstrap-glyphicons.css&quot;/&gt;\n    &lt;link rel=&quot;stylesheet&quot; href=&quot;https://cdn.jsdelivr.net/npm/@fortawesome/fontawesome-free@6.2.0/css/all.min.css&quot;/&gt;\n    &lt;link rel=&quot;stylesheet&quot; href=&quot;https://cdnjs.cloudflare.com/ajax/libs/Leaflet.awesome-markers/2.0.2/leaflet.awesome-markers.css&quot;/&gt;\n    &lt;link rel=&quot;stylesheet&quot; href=&quot;https://cdn.jsdelivr.net/gh/python-visualization/folium/folium/templates/leaflet.awesome.rotate.min.css&quot;/&gt;\n    \n            &lt;meta name=&quot;viewport&quot; content=&quot;width=device-width,\n                initial-scale=1.0, maximum-scale=1.0, user-scalable=no&quot; /&gt;\n            &lt;style&gt;\n                #map_227f5a2ad37f9d1d41aa0f47e8b8b705 {\n                    position: relative;\n                    width: 100.0%;\n                    height: 100.0%;\n                    left: 0.0%;\n                    top: 0.0%;\n                }\n                .leaflet-container { font-size: 1rem; }\n            &lt;/style&gt;\n        \n&lt;/head&gt;\n&lt;body&gt;\n    \n    \n            &lt;div class=&quot;folium-map&quot; id=&quot;map_227f5a2ad37f9d1d41aa0f47e8b8b705&quot; &gt;&lt;/div&gt;\n        \n&lt;/body&gt;\n&lt;script&gt;\n    \n    \n            var map_227f5a2ad37f9d1d41aa0f47e8b8b705 = L.map(\n                &quot;map_227f5a2ad37f9d1d41aa0f47e8b8b705&quot;,\n                {\n                    center: [0.0, 0.0],\n                    crs: L.CRS.EPSG3857,\n                    zoom: 1,\n                    zoomControl: true,\n                    preferCanvas: false,\n                    locaation: [46.879002, -102.789879],\n                }\n            );\n\n            \n\n        \n    \n            var tile_layer_127697fde84143594c6e1fb69e87eb5a = L.tileLayer(\n                &quot;https://tile.openstreetmap.org/{z}/{x}/{y}.png&quot;,\n                {&quot;attribution&quot;: &quot;\\u0026copy; \\u003ca href=\\&quot;https://www.openstreetmap.org/copyright\\&quot;\\u003eOpenStreetMap\\u003c/a\\u003e contributors&quot;, &quot;detectRetina&quot;: false, &quot;maxNativeZoom&quot;: 19, &quot;maxZoom&quot;: 19, &quot;minZoom&quot;: 0, &quot;noWrap&quot;: false, &quot;opacity&quot;: 1, &quot;subdomains&quot;: &quot;abc&quot;, &quot;tms&quot;: false}\n            );\n        \n    \n            tile_layer_127697fde84143594c6e1fb69e87eb5a.addTo(map_227f5a2ad37f9d1d41aa0f47e8b8b705);\n        \n&lt;/script&gt;\n&lt;/html&gt;\" style=\"position:absolute;width:100%;height:100%;left:0;top:0;border:none !important;\" allowfullscreen webkitallowfullscreen mozallowfullscreen></iframe></div></div>"
     },
     "execution_count": 5,
     "metadata": {},
     "output_type": "execute_result"
    }
   ],
   "source": [
    "import folium\n",
    "\n",
    "m = folium.Map(locaation=[46.879002, -102.789879], zoom_start=15)\n",
    "m"
   ],
   "metadata": {
    "collapsed": false,
    "ExecuteTime": {
     "end_time": "2024-10-09T04:30:45.097968Z",
     "start_time": "2024-10-09T04:30:45.080280Z"
    }
   },
   "id": "62859d3d43519b25",
   "execution_count": 5
  },
  {
   "cell_type": "code",
   "outputs": [],
   "source": [
    "from IPython.display import IFrame"
   ],
   "metadata": {
    "collapsed": false,
    "ExecuteTime": {
     "end_time": "2024-10-09T05:37:30.710219Z",
     "start_time": "2024-10-09T05:37:30.697210Z"
    }
   },
   "id": "34f7b36b726997a7",
   "execution_count": 12
  },
  {
   "cell_type": "code",
   "outputs": [],
   "source": [
    "test = IFrame(src='input_files/AmazonSPE_20240109_res10_strata_map_with_dem_ndvi_grid40m%201.html', width=700, height=600)\n",
    "# width and height may be manually specified depending on the land size"
   ],
   "metadata": {
    "collapsed": false,
    "ExecuteTime": {
     "end_time": "2024-10-09T05:37:31.264280Z",
     "start_time": "2024-10-09T05:37:31.257274Z"
    }
   },
   "id": "ee7fb201c7ef1f23",
   "execution_count": 13
  },
  {
   "cell_type": "code",
   "outputs": [
    {
     "data": {
      "text/plain": "<IPython.lib.display.IFrame at 0x161d2a1f400>",
      "text/html": "\n        <iframe\n            width=\"700\"\n            height=\"600\"\n            src=\"input_files/AmazonSPE_20240109_res10_strata_map_with_dem_ndvi_grid40m%201.html\"\n            frameborder=\"0\"\n            allowfullscreen\n            \n        ></iframe>\n        "
     },
     "execution_count": 14,
     "metadata": {},
     "output_type": "execute_result"
    }
   ],
   "source": [
    "test"
   ],
   "metadata": {
    "collapsed": false,
    "ExecuteTime": {
     "end_time": "2024-10-09T05:37:31.640222Z",
     "start_time": "2024-10-09T05:37:31.633222Z"
    }
   },
   "id": "d4d73b8c16d8c841",
   "execution_count": 14
  },
  {
   "cell_type": "code",
   "outputs": [],
   "source": [
    "test2 = IFrame(src='input_files/maddegedara-2023.html', width=700, height=600)"
   ],
   "metadata": {
    "collapsed": false,
    "ExecuteTime": {
     "end_time": "2024-10-09T05:37:32.477393Z",
     "start_time": "2024-10-09T05:37:32.463400Z"
    }
   },
   "id": "47f099c033c53e2d",
   "execution_count": 15
  },
  {
   "cell_type": "code",
   "outputs": [
    {
     "data": {
      "text/plain": "<IPython.lib.display.IFrame at 0x161d2a1e590>",
      "text/html": "\n        <iframe\n            width=\"700\"\n            height=\"600\"\n            src=\"input_files/maddegedara-2023.html\"\n            frameborder=\"0\"\n            allowfullscreen\n            \n        ></iframe>\n        "
     },
     "execution_count": 16,
     "metadata": {},
     "output_type": "execute_result"
    }
   ],
   "source": [
    "test2"
   ],
   "metadata": {
    "collapsed": false,
    "ExecuteTime": {
     "end_time": "2024-10-09T05:37:33.270101Z",
     "start_time": "2024-10-09T05:37:33.253104Z"
    }
   },
   "id": "56b87a9cd1557ac1",
   "execution_count": 16
  },
  {
   "cell_type": "code",
   "outputs": [],
   "source": [
    "#!pip install html2image"
   ],
   "metadata": {
    "collapsed": false,
    "ExecuteTime": {
     "end_time": "2024-10-09T05:37:35.445490Z",
     "start_time": "2024-10-09T05:37:35.426491Z"
    }
   },
   "id": "acdc4789750b0806",
   "execution_count": 17
  },
  {
   "cell_type": "code",
   "outputs": [],
   "source": [
    "import folium"
   ],
   "metadata": {
    "collapsed": false,
    "ExecuteTime": {
     "end_time": "2024-10-09T06:12:29.613514Z",
     "start_time": "2024-10-09T06:12:29.219823Z"
    }
   },
   "id": "9d9465957b1b815",
   "execution_count": 35
  },
  {
   "cell_type": "code",
   "outputs": [
    {
     "data": {
      "text/plain": "<folium.folium.Map at 0x161f2ec3190>",
      "text/html": "<div style=\"width:100%;\"><div style=\"position:relative;width:100%;height:0;padding-bottom:60%;\"><span style=\"color:#565656\">Make this Notebook Trusted to load map: File -> Trust Notebook</span><iframe srcdoc=\"&lt;!DOCTYPE html&gt;\n&lt;html&gt;\n&lt;head&gt;\n    \n    &lt;meta http-equiv=&quot;content-type&quot; content=&quot;text/html; charset=UTF-8&quot; /&gt;\n    \n        &lt;script&gt;\n            L_NO_TOUCH = false;\n            L_DISABLE_3D = false;\n        &lt;/script&gt;\n    \n    &lt;style&gt;html, body {width: 100%;height: 100%;margin: 0;padding: 0;}&lt;/style&gt;\n    &lt;style&gt;#map {position:absolute;top:0;bottom:0;right:0;left:0;}&lt;/style&gt;\n    &lt;script src=&quot;https://cdn.jsdelivr.net/npm/leaflet@1.9.3/dist/leaflet.js&quot;&gt;&lt;/script&gt;\n    &lt;script src=&quot;https://code.jquery.com/jquery-3.7.1.min.js&quot;&gt;&lt;/script&gt;\n    &lt;script src=&quot;https://cdn.jsdelivr.net/npm/bootstrap@5.2.2/dist/js/bootstrap.bundle.min.js&quot;&gt;&lt;/script&gt;\n    &lt;script src=&quot;https://cdnjs.cloudflare.com/ajax/libs/Leaflet.awesome-markers/2.0.2/leaflet.awesome-markers.js&quot;&gt;&lt;/script&gt;\n    &lt;link rel=&quot;stylesheet&quot; href=&quot;https://cdn.jsdelivr.net/npm/leaflet@1.9.3/dist/leaflet.css&quot;/&gt;\n    &lt;link rel=&quot;stylesheet&quot; href=&quot;https://cdn.jsdelivr.net/npm/bootstrap@5.2.2/dist/css/bootstrap.min.css&quot;/&gt;\n    &lt;link rel=&quot;stylesheet&quot; href=&quot;https://netdna.bootstrapcdn.com/bootstrap/3.0.0/css/bootstrap-glyphicons.css&quot;/&gt;\n    &lt;link rel=&quot;stylesheet&quot; href=&quot;https://cdn.jsdelivr.net/npm/@fortawesome/fontawesome-free@6.2.0/css/all.min.css&quot;/&gt;\n    &lt;link rel=&quot;stylesheet&quot; href=&quot;https://cdnjs.cloudflare.com/ajax/libs/Leaflet.awesome-markers/2.0.2/leaflet.awesome-markers.css&quot;/&gt;\n    &lt;link rel=&quot;stylesheet&quot; href=&quot;https://cdn.jsdelivr.net/gh/python-visualization/folium/folium/templates/leaflet.awesome.rotate.min.css&quot;/&gt;\n    \n            &lt;meta name=&quot;viewport&quot; content=&quot;width=device-width,\n                initial-scale=1.0, maximum-scale=1.0, user-scalable=no&quot; /&gt;\n            &lt;style&gt;\n                #map_0f061ef416f789b4e6cb110f996b8fa5 {\n                    position: relative;\n                    width: 700.0px;\n                    height: 600.0px;\n                    left: 0.0%;\n                    top: 0.0%;\n                }\n                .leaflet-container { font-size: 1rem; }\n            &lt;/style&gt;\n        \n&lt;/head&gt;\n&lt;body&gt;\n    \n    \n            &lt;div class=&quot;folium-map&quot; id=&quot;map_0f061ef416f789b4e6cb110f996b8fa5&quot; &gt;&lt;/div&gt;\n        \n&lt;/body&gt;\n&lt;script&gt;\n    \n    \n            var map_0f061ef416f789b4e6cb110f996b8fa5 = L.map(\n                &quot;map_0f061ef416f789b4e6cb110f996b8fa5&quot;,\n                {\n                    center: [0.0, 0.0],\n                    crs: L.CRS.EPSG3857,\n                    zoom: 1,\n                    zoomControl: true,\n                    preferCanvas: false,\n                    src: &quot;input_files/maddegedara-2023.html&quot;,\n                }\n            );\n\n            \n\n        \n    \n            var tile_layer_1e190fb18fb8227a21a14ee181e98bd6 = L.tileLayer(\n                &quot;https://tile.openstreetmap.org/{z}/{x}/{y}.png&quot;,\n                {&quot;attribution&quot;: &quot;\\u0026copy; \\u003ca href=\\&quot;https://www.openstreetmap.org/copyright\\&quot;\\u003eOpenStreetMap\\u003c/a\\u003e contributors&quot;, &quot;detectRetina&quot;: false, &quot;maxNativeZoom&quot;: 19, &quot;maxZoom&quot;: 19, &quot;minZoom&quot;: 0, &quot;noWrap&quot;: false, &quot;opacity&quot;: 1, &quot;subdomains&quot;: &quot;abc&quot;, &quot;tms&quot;: false}\n            );\n        \n    \n            tile_layer_1e190fb18fb8227a21a14ee181e98bd6.addTo(map_0f061ef416f789b4e6cb110f996b8fa5);\n        \n&lt;/script&gt;\n&lt;/html&gt;\" style=\"position:absolute;width:100%;height:100%;left:0;top:0;border:none !important;\" allowfullscreen webkitallowfullscreen mozallowfullscreen></iframe></div></div>"
     },
     "execution_count": 36,
     "metadata": {},
     "output_type": "execute_result"
    }
   ],
   "source": [
    "m = folium.Map(src='input_files/maddegedara-2023.html', width=700, height=600)\n",
    "m"
   ],
   "metadata": {
    "collapsed": false,
    "ExecuteTime": {
     "end_time": "2024-10-09T06:13:12.733940Z",
     "start_time": "2024-10-09T06:13:12.705939Z"
    }
   },
   "id": "bfa250fe3a94b067",
   "execution_count": 36
  },
  {
   "cell_type": "markdown",
   "source": [
    "## converting html to static image"
   ],
   "metadata": {
    "collapsed": false
   },
   "id": "54233ee00840af8c"
  },
  {
   "cell_type": "code",
   "outputs": [],
   "source": [
    "from html2image import Html2Image\n",
    "hti = Html2Image()"
   ],
   "metadata": {
    "collapsed": false,
    "ExecuteTime": {
     "end_time": "2024-10-09T05:37:52.073519Z",
     "start_time": "2024-10-09T05:37:51.937986Z"
    }
   },
   "id": "a3621498237e62ef",
   "execution_count": 18
  },
  {
   "cell_type": "code",
   "outputs": [],
   "source": [
    "# screenshot an HTML file\n",
    "test3 = hti.screenshot(\n",
    "    html_file='D:/EngenuityAI/TestProjects/Python_PPTX_to_PDF/input_files/maddegedara-2023.html', save_as='page2.png'\n",
    ")\n",
    "\n",
    "# screenshot an URL\n",
    "# test2 = hti.screenshot(url='input_files/AmazonSPE_20240109_res10_strata_map_with_dem_ndvi_grid40m 1.html', save_as='python_org.png')"
   ],
   "metadata": {
    "collapsed": false,
    "ExecuteTime": {
     "end_time": "2024-10-09T05:38:33.779075Z",
     "start_time": "2024-10-09T05:38:31.906262Z"
    }
   },
   "id": "9879f81082fc372",
   "execution_count": 22
  },
  {
   "cell_type": "code",
   "outputs": [],
   "source": [
    "# import matplotlib.pyplot as plt"
   ],
   "metadata": {
    "collapsed": false,
    "ExecuteTime": {
     "end_time": "2024-10-09T05:38:33.794075Z",
     "start_time": "2024-10-09T05:38:33.781078Z"
    }
   },
   "id": "50c3fa82ff8ed1d0",
   "execution_count": 23
  },
  {
   "cell_type": "code",
   "outputs": [
    {
     "name": "stdout",
     "output_type": "stream",
     "text": [
      "['D:\\\\EngenuityAI\\\\TestProjects\\\\Python_PPTX_to_PDF\\\\page2.png']\n"
     ]
    }
   ],
   "source": [
    "print(test3)"
   ],
   "metadata": {
    "collapsed": false,
    "ExecuteTime": {
     "end_time": "2024-10-09T05:38:34.555158Z",
     "start_time": "2024-10-09T05:38:34.540148Z"
    }
   },
   "id": "b6e06d5a54836c49",
   "execution_count": 24
  },
  {
   "cell_type": "code",
   "outputs": [
    {
     "ename": "NameError",
     "evalue": "name 'IFrame' is not defined",
     "output_type": "error",
     "traceback": [
      "\u001B[1;31m---------------------------------------------------------------------------\u001B[0m",
      "\u001B[1;31mNameError\u001B[0m                                 Traceback (most recent call last)",
      "Cell \u001B[1;32mIn[11], line 1\u001B[0m\n\u001B[1;32m----> 1\u001B[0m \u001B[43mIFrame\u001B[49m(src\u001B[38;5;241m=\u001B[39m\u001B[38;5;124m\"\u001B[39m\u001B[38;5;124minput_files/maddegedara-2023.html\u001B[39m\u001B[38;5;124m\"\u001B[39m, width\u001B[38;5;241m=\u001B[39m\u001B[38;5;124m\"\u001B[39m\u001B[38;5;124m700\u001B[39m\u001B[38;5;124m\"\u001B[39m, height\u001B[38;5;241m=\u001B[39m\u001B[38;5;124m\"\u001B[39m\u001B[38;5;124m600\u001B[39m\u001B[38;5;124m\"\u001B[39m)\n",
      "\u001B[1;31mNameError\u001B[0m: name 'IFrame' is not defined"
     ]
    }
   ],
   "source": [
    "IFrame(src=\"input_files/maddegedara-2023.html\", width=\"700\", height=\"600\")"
   ],
   "metadata": {
    "collapsed": false,
    "ExecuteTime": {
     "end_time": "2024-10-09T05:37:20.543493Z",
     "start_time": "2024-10-09T05:37:20.516493Z"
    }
   },
   "id": "91539ec0baa5ad82",
   "execution_count": 11
  },
  {
   "cell_type": "markdown",
   "source": [
    "## htmlwebshot"
   ],
   "metadata": {
    "collapsed": false
   },
   "id": "9003517d7f92949f"
  },
  {
   "cell_type": "code",
   "outputs": [
    {
     "name": "stdout",
     "output_type": "stream",
     "text": [
      "Collecting htmlwebshot\n",
      "  Obtaining dependency information for htmlwebshot from https://files.pythonhosted.org/packages/e7/aa/511b7bea1693e623ffcf18cf094f903eac246267a38957ffa8630ce8920d/htmlwebshot-0.1.2-py3-none-any.whl.metadata\n",
      "  Downloading htmlwebshot-0.1.2-py3-none-any.whl.metadata (8.6 kB)\n",
      "Collecting asyncio (from htmlwebshot)\n",
      "  Obtaining dependency information for asyncio from https://files.pythonhosted.org/packages/22/74/07679c5b9f98a7cb0fc147b1ef1cc1853bc07a4eb9cb5731e24732c5f773/asyncio-3.4.3-py3-none-any.whl.metadata\n",
      "  Downloading asyncio-3.4.3-py3-none-any.whl.metadata (1.7 kB)\n",
      "Downloading htmlwebshot-0.1.2-py3-none-any.whl (21 kB)\n",
      "Downloading asyncio-3.4.3-py3-none-any.whl (101 kB)\n",
      "   ---------------------------------------- 0.0/101.8 kB ? eta -:--:--\n",
      "   ---- ----------------------------------- 10.2/101.8 kB ? eta -:--:--\n",
      "   ----------- --------------------------- 30.7/101.8 kB 660.6 kB/s eta 0:00:01\n",
      "   ----------- --------------------------- 30.7/101.8 kB 660.6 kB/s eta 0:00:01\n",
      "   --------------- ----------------------- 41.0/101.8 kB 196.9 kB/s eta 0:00:01\n",
      "   ----------------------------------- --- 92.2/101.8 kB 374.1 kB/s eta 0:00:01\n",
      "   -------------------------------------- 101.8/101.8 kB 366.1 kB/s eta 0:00:00\n",
      "Installing collected packages: asyncio, htmlwebshot\n",
      "Successfully installed asyncio-3.4.3 htmlwebshot-0.1.2\n"
     ]
    },
    {
     "name": "stderr",
     "output_type": "stream",
     "text": [
      "\n",
      "[notice] A new release of pip is available: 23.2.1 -> 24.2\n",
      "[notice] To update, run: python.exe -m pip install --upgrade pip\n"
     ]
    }
   ],
   "source": [
    "#!pip install htmlwebshot"
   ],
   "metadata": {
    "collapsed": false,
    "ExecuteTime": {
     "end_time": "2024-10-09T04:46:07.845133Z",
     "start_time": "2024-10-09T04:46:03.071272Z"
    }
   },
   "id": "8edc07eeec2c678f",
   "execution_count": 23
  },
  {
   "cell_type": "code",
   "outputs": [],
   "source": [
    "# from htmlwebshot import WebShot\n",
    "# conf = WebShot.config(wkhtmltopdf=\"C:/Program Files/wkhtmltopdf/bin/wkhtmltopdf.exe\")\n",
    "# shot = WebShot(conf)\n",
    "# shot.quality = 100"
   ],
   "metadata": {
    "collapsed": false,
    "ExecuteTime": {
     "end_time": "2024-10-09T04:51:24.595160Z",
     "start_time": "2024-10-09T04:51:24.589168Z"
    }
   },
   "id": "88e41254b0c26f80",
   "execution_count": 28
  },
  {
   "cell_type": "code",
   "outputs": [],
   "source": [
    "# image = shot.create_pic(html=\"input_files/maddegedara-2023.html\")"
   ],
   "metadata": {
    "collapsed": false,
    "ExecuteTime": {
     "end_time": "2024-10-09T04:51:25.275281Z",
     "start_time": "2024-10-09T04:51:25.270250Z"
    }
   },
   "id": "aa23bb0415df66b8",
   "execution_count": 29
  },
  {
   "cell_type": "markdown",
   "source": [
    "## imgkit"
   ],
   "metadata": {
    "collapsed": false
   },
   "id": "5c4935d386aa6d20"
  },
  {
   "cell_type": "code",
   "outputs": [
    {
     "name": "stdout",
     "output_type": "stream",
     "text": [
      "Collecting imgkit\n",
      "  Obtaining dependency information for imgkit from https://files.pythonhosted.org/packages/bf/b0/e0c8aaafb20377eccb9aedbb9e00c21aeaac9cdc13d31d1c7532e1241bab/imgkit-1.2.3-py3-none-any.whl.metadata\n",
      "  Downloading imgkit-1.2.3-py3-none-any.whl.metadata (8.1 kB)\n",
      "Requirement already satisfied: six in d:\\engenuityai\\testprojects\\python_pptx_to_pdf\\.venv\\lib\\site-packages (from imgkit) (1.16.0)\n",
      "Downloading imgkit-1.2.3-py3-none-any.whl (10 kB)\n",
      "Installing collected packages: imgkit\n",
      "Successfully installed imgkit-1.2.3\n"
     ]
    },
    {
     "name": "stderr",
     "output_type": "stream",
     "text": [
      "\n",
      "[notice] A new release of pip is available: 23.2.1 -> 24.2\n",
      "[notice] To update, run: python.exe -m pip install --upgrade pip\n"
     ]
    }
   ],
   "source": [
    "!pip install imgkit"
   ],
   "metadata": {
    "collapsed": false,
    "ExecuteTime": {
     "end_time": "2024-10-09T04:51:53.845268Z",
     "start_time": "2024-10-09T04:51:50.334315Z"
    }
   },
   "id": "95783cc37f1f7d34",
   "execution_count": 30
  },
  {
   "cell_type": "code",
   "outputs": [],
   "source": [
    "import imgkit"
   ],
   "metadata": {
    "collapsed": false,
    "ExecuteTime": {
     "end_time": "2024-10-09T05:35:12.561262Z",
     "start_time": "2024-10-09T05:35:12.494263Z"
    }
   },
   "id": "d07e43997ef12b10",
   "execution_count": 4
  },
  {
   "cell_type": "code",
   "outputs": [],
   "source": [
    "# Path to the HTML file\n",
    "html_file = \"D:\\EngenuityAI\\TestProjects\\Python_PPTX_to_PDF\\input_files\\maddegedara-2023.html\""
   ],
   "metadata": {
    "collapsed": false,
    "ExecuteTime": {
     "end_time": "2024-10-09T05:35:12.808164Z",
     "start_time": "2024-10-09T05:35:12.799180Z"
    }
   },
   "id": "fd6a8c4f77b0b8ae",
   "execution_count": 5
  },
  {
   "cell_type": "code",
   "outputs": [],
   "source": [
    "# Output path for the image\n",
    "output_image = \"output_map_image.png\""
   ],
   "metadata": {
    "collapsed": false,
    "ExecuteTime": {
     "end_time": "2024-10-09T05:35:13.230413Z",
     "start_time": "2024-10-09T05:35:13.214895Z"
    }
   },
   "id": "b2284d4db088677",
   "execution_count": 6
  },
  {
   "cell_type": "code",
   "outputs": [],
   "source": [
    "config = imgkit.config(wkhtmltoimage=\"C:/Program Files/wkhtmltopdf/bin/wkhtmltoimage.exe\")"
   ],
   "metadata": {
    "collapsed": false,
    "ExecuteTime": {
     "end_time": "2024-10-09T05:35:14.317499Z",
     "start_time": "2024-10-09T05:35:14.304478Z"
    }
   },
   "id": "123f48be7c047e99",
   "execution_count": 7
  },
  {
   "cell_type": "code",
   "outputs": [],
   "source": [
    "options = {\n",
    "    'width': 700,  # Set width (in pixels)\n",
    "    'height': 600,  # Set height (in pixels)\n",
    "    'quality': 80,  # Image quality (optional)\n",
    "}"
   ],
   "metadata": {
    "collapsed": false,
    "ExecuteTime": {
     "end_time": "2024-10-09T05:35:14.981846Z",
     "start_time": "2024-10-09T05:35:14.972826Z"
    }
   },
   "id": "ac73249dacd88b8c",
   "execution_count": 8
  },
  {
   "cell_type": "code",
   "outputs": [
    {
     "name": "stdout",
     "output_type": "stream",
     "text": [
      "Loading page (1/2)\r\n",
      "Rendering (2/2)                                                    \r\n",
      "Done                                                               \r\n"
     ]
    },
    {
     "data": {
      "text/plain": "True"
     },
     "execution_count": 9,
     "metadata": {},
     "output_type": "execute_result"
    }
   ],
   "source": [
    "# Convert the HTML to an image\n",
    "imgkit.from_file(html_file, output_image, config=config, options=options)"
   ],
   "metadata": {
    "collapsed": false,
    "ExecuteTime": {
     "end_time": "2024-10-09T05:35:17.456825Z",
     "start_time": "2024-10-09T05:35:15.606185Z"
    }
   },
   "id": "36813c5dbae93ba0",
   "execution_count": 9
  },
  {
   "cell_type": "code",
   "outputs": [
    {
     "name": "stdout",
     "output_type": "stream",
     "text": [
      "Image saved to output_map_image.png\n"
     ]
    }
   ],
   "source": [
    "print(f\"Image saved to {output_image}\")"
   ],
   "metadata": {
    "collapsed": false,
    "ExecuteTime": {
     "end_time": "2024-10-09T05:35:17.472814Z",
     "start_time": "2024-10-09T05:35:17.458790Z"
    }
   },
   "id": "24b882d049835503",
   "execution_count": 10
  },
  {
   "cell_type": "code",
   "outputs": [
    {
     "data": {
      "text/plain": "'output_map_image.png'"
     },
     "metadata": {},
     "output_type": "display_data"
    }
   ],
   "source": [
    "display(output_image)"
   ],
   "metadata": {
    "collapsed": false,
    "ExecuteTime": {
     "end_time": "2024-10-09T05:00:16.111594Z",
     "start_time": "2024-10-09T05:00:16.094001Z"
    }
   },
   "id": "6bc0109843afe3b9",
   "execution_count": 67
  },
  {
   "cell_type": "markdown",
   "source": [
    "## Pyppeteer"
   ],
   "metadata": {
    "collapsed": false
   },
   "id": "8b90bdf8359f71ca"
  },
  {
   "cell_type": "code",
   "outputs": [
    {
     "name": "stdout",
     "output_type": "stream",
     "text": [
      "^C\n"
     ]
    }
   ],
   "source": [
    "!pip install pyppeteer"
   ],
   "metadata": {
    "collapsed": false,
    "ExecuteTime": {
     "end_time": "2024-10-09T05:09:09.958154Z",
     "start_time": "2024-10-09T05:07:53.433416Z"
    }
   },
   "id": "166e2789db49d471",
   "execution_count": 69
  },
  {
   "cell_type": "code",
   "outputs": [],
   "source": [
    "import asyncio\n",
    "from pyppeteer import launch"
   ],
   "metadata": {
    "collapsed": false,
    "ExecuteTime": {
     "end_time": "2024-10-09T05:32:49.347791Z",
     "start_time": "2024-10-09T05:32:49.214782Z"
    }
   },
   "id": "23078beb3c6edf19",
   "execution_count": 1
  },
  {
   "cell_type": "code",
   "outputs": [],
   "source": [
    "async def capture_html_as_image():\n",
    "    # Launch headless browser\n",
    "    browser = await launch(headless=True)\n",
    "    page = await browser.newPage()\n",
    "\n",
    "    # Load the HTML file\n",
    "    await page.goto('D:/EngenuityAI/TestProjects/Python_PPTX_to_PDF/input_files/maddegedara-2023.html')\n",
    "\n",
    "    # Wait for the map to fully load (you may need to adjust the wait time)\n",
    "    await page.waitForTimeout(3000)  # 3 seconds\n",
    "\n",
    "    # Take a screenshot\n",
    "    await page.screenshot({'path': 'output_map_image.png'})\n",
    "\n",
    "    # Close the browser\n",
    "    await browser.close()"
   ],
   "metadata": {
    "collapsed": false,
    "ExecuteTime": {
     "end_time": "2024-10-09T05:33:26.910587Z",
     "start_time": "2024-10-09T05:33:26.902597Z"
    }
   },
   "id": "1f35e454048f6e03",
   "execution_count": 2
  },
  {
   "cell_type": "code",
   "outputs": [
    {
     "ename": "RuntimeError",
     "evalue": "This event loop is already running",
     "output_type": "error",
     "traceback": [
      "\u001B[1;31m---------------------------------------------------------------------------\u001B[0m",
      "\u001B[1;31mRuntimeError\u001B[0m                              Traceback (most recent call last)",
      "Cell \u001B[1;32mIn[3], line 2\u001B[0m\n\u001B[0;32m      1\u001B[0m \u001B[38;5;66;03m# Run the script\u001B[39;00m\n\u001B[1;32m----> 2\u001B[0m \u001B[43masyncio\u001B[49m\u001B[38;5;241;43m.\u001B[39;49m\u001B[43mget_event_loop\u001B[49m\u001B[43m(\u001B[49m\u001B[43m)\u001B[49m\u001B[38;5;241;43m.\u001B[39;49m\u001B[43mrun_until_complete\u001B[49m\u001B[43m(\u001B[49m\u001B[43mcapture_html_as_image\u001B[49m\u001B[43m(\u001B[49m\u001B[43m)\u001B[49m\u001B[43m)\u001B[49m\n\u001B[0;32m      4\u001B[0m \u001B[38;5;28mprint\u001B[39m(\u001B[38;5;124m\"\u001B[39m\u001B[38;5;124mScreenshot saved as output_map_image.png\u001B[39m\u001B[38;5;124m\"\u001B[39m)\n",
      "File \u001B[1;32m~\\AppData\\Local\\Programs\\Python\\Python310\\lib\\asyncio\\base_events.py:622\u001B[0m, in \u001B[0;36mBaseEventLoop.run_until_complete\u001B[1;34m(self, future)\u001B[0m\n\u001B[0;32m    611\u001B[0m \u001B[38;5;250m\u001B[39m\u001B[38;5;124;03m\"\"\"Run until the Future is done.\u001B[39;00m\n\u001B[0;32m    612\u001B[0m \n\u001B[0;32m    613\u001B[0m \u001B[38;5;124;03mIf the argument is a coroutine, it is wrapped in a Task.\u001B[39;00m\n\u001B[1;32m   (...)\u001B[0m\n\u001B[0;32m    619\u001B[0m \u001B[38;5;124;03mReturn the Future's result, or raise its exception.\u001B[39;00m\n\u001B[0;32m    620\u001B[0m \u001B[38;5;124;03m\"\"\"\u001B[39;00m\n\u001B[0;32m    621\u001B[0m \u001B[38;5;28mself\u001B[39m\u001B[38;5;241m.\u001B[39m_check_closed()\n\u001B[1;32m--> 622\u001B[0m \u001B[38;5;28;43mself\u001B[39;49m\u001B[38;5;241;43m.\u001B[39;49m\u001B[43m_check_running\u001B[49m\u001B[43m(\u001B[49m\u001B[43m)\u001B[49m\n\u001B[0;32m    624\u001B[0m new_task \u001B[38;5;241m=\u001B[39m \u001B[38;5;129;01mnot\u001B[39;00m futures\u001B[38;5;241m.\u001B[39misfuture(future)\n\u001B[0;32m    625\u001B[0m future \u001B[38;5;241m=\u001B[39m tasks\u001B[38;5;241m.\u001B[39mensure_future(future, loop\u001B[38;5;241m=\u001B[39m\u001B[38;5;28mself\u001B[39m)\n",
      "File \u001B[1;32m~\\AppData\\Local\\Programs\\Python\\Python310\\lib\\asyncio\\base_events.py:582\u001B[0m, in \u001B[0;36mBaseEventLoop._check_running\u001B[1;34m(self)\u001B[0m\n\u001B[0;32m    580\u001B[0m \u001B[38;5;28;01mdef\u001B[39;00m \u001B[38;5;21m_check_running\u001B[39m(\u001B[38;5;28mself\u001B[39m):\n\u001B[0;32m    581\u001B[0m     \u001B[38;5;28;01mif\u001B[39;00m \u001B[38;5;28mself\u001B[39m\u001B[38;5;241m.\u001B[39mis_running():\n\u001B[1;32m--> 582\u001B[0m         \u001B[38;5;28;01mraise\u001B[39;00m \u001B[38;5;167;01mRuntimeError\u001B[39;00m(\u001B[38;5;124m'\u001B[39m\u001B[38;5;124mThis event loop is already running\u001B[39m\u001B[38;5;124m'\u001B[39m)\n\u001B[0;32m    583\u001B[0m     \u001B[38;5;28;01mif\u001B[39;00m events\u001B[38;5;241m.\u001B[39m_get_running_loop() \u001B[38;5;129;01mis\u001B[39;00m \u001B[38;5;129;01mnot\u001B[39;00m \u001B[38;5;28;01mNone\u001B[39;00m:\n\u001B[0;32m    584\u001B[0m         \u001B[38;5;28;01mraise\u001B[39;00m \u001B[38;5;167;01mRuntimeError\u001B[39;00m(\n\u001B[0;32m    585\u001B[0m             \u001B[38;5;124m'\u001B[39m\u001B[38;5;124mCannot run the event loop while another loop is running\u001B[39m\u001B[38;5;124m'\u001B[39m)\n",
      "\u001B[1;31mRuntimeError\u001B[0m: This event loop is already running"
     ]
    }
   ],
   "source": [
    "# Run the script\n",
    "asyncio.get_event_loop().run_until_complete(capture_html_as_image())\n",
    "\n",
    "print(\"Screenshot saved as output_map_image.png\")"
   ],
   "metadata": {
    "collapsed": false,
    "ExecuteTime": {
     "end_time": "2024-10-09T05:33:31.670464Z",
     "start_time": "2024-10-09T05:33:31.104805Z"
    }
   },
   "id": "e7784f60242c9ab4",
   "execution_count": 3
  },
  {
   "cell_type": "markdown",
   "source": [
    "## checking for .html files in image data"
   ],
   "metadata": {
    "collapsed": false
   },
   "id": "1d24c8188084fd61"
  },
  {
   "cell_type": "code",
   "outputs": [],
   "source": [
    "import json\n",
    "\n",
    "image_data = json.load(open(\"input_files/input_img.json\"))"
   ],
   "metadata": {
    "collapsed": false,
    "ExecuteTime": {
     "end_time": "2024-10-08T10:52:16.244719Z",
     "start_time": "2024-10-08T10:52:16.233175Z"
    }
   },
   "id": "cd435469d246c346",
   "execution_count": 27
  },
  {
   "cell_type": "code",
   "outputs": [],
   "source": [
    "html_placeholders = {}\n",
    "\n",
    "# Iterate through the image_data dictionary\n",
    "for placeholder, image_path in image_data.items():\n",
    "    # Check if the image_path ends with \".html\"\n",
    "    if image_path.endswith('.html'):\n",
    "        # Add to the html_placeholders dictionary in the order found\n",
    "        html_placeholders[placeholder] = image_path"
   ],
   "metadata": {
    "collapsed": false,
    "ExecuteTime": {
     "end_time": "2024-10-08T10:52:16.931860Z",
     "start_time": "2024-10-08T10:52:16.912813Z"
    }
   },
   "id": "90434c573024b868",
   "execution_count": 28
  },
  {
   "cell_type": "code",
   "outputs": [
    {
     "name": "stdout",
     "output_type": "stream",
     "text": [
      "HTML file placeholders found: {'image_1': 'input_files/AmazonSPE_20240109_res10_strata_map_with_dem_ndvi_grid40m 1.html', 'image_3': 'input_files/AmazonSPE_20240109_res10_strata_map_with_dem_ndvi_grid40m 1.html'}\n"
     ]
    }
   ],
   "source": [
    "# Output the collected placeholders with HTML files\n",
    "print(\"HTML file placeholders found:\", html_placeholders)"
   ],
   "metadata": {
    "collapsed": false,
    "ExecuteTime": {
     "end_time": "2024-10-08T10:52:17.590377Z",
     "start_time": "2024-10-08T10:52:17.582790Z"
    }
   },
   "id": "c291c58e45d842f0",
   "execution_count": 29
  },
  {
   "cell_type": "markdown",
   "source": [
    "## html2image library"
   ],
   "metadata": {
    "collapsed": false
   },
   "id": "dc8e495e25e4275e"
  },
  {
   "cell_type": "code",
   "outputs": [],
   "source": [
    "import os\n",
    "from html2image import Html2Image\n",
    "import json"
   ],
   "metadata": {
    "collapsed": false,
    "ExecuteTime": {
     "end_time": "2024-10-09T05:43:26.550644Z",
     "start_time": "2024-10-09T05:43:26.542635Z"
    }
   },
   "id": "122f8c4452bd8d14",
   "execution_count": 25
  },
  {
   "cell_type": "code",
   "outputs": [],
   "source": [
    "hti = Html2Image()"
   ],
   "metadata": {
    "collapsed": false,
    "ExecuteTime": {
     "end_time": "2024-10-09T05:43:26.848908Z",
     "start_time": "2024-10-09T05:43:26.833914Z"
    }
   },
   "id": "3fd6e4eb6f70aa3",
   "execution_count": 26
  },
  {
   "cell_type": "code",
   "outputs": [],
   "source": [
    "image_data = json.load(open(\"input_files/input_img.json\"))"
   ],
   "metadata": {
    "collapsed": false,
    "ExecuteTime": {
     "end_time": "2024-10-09T05:43:27.118816Z",
     "start_time": "2024-10-09T05:43:27.110802Z"
    }
   },
   "id": "822a0dc571a7060a",
   "execution_count": 27
  },
  {
   "cell_type": "code",
   "outputs": [],
   "source": [
    "# Directory to save the screenshots\n",
    "output_dir = 'imgs'\n",
    "\n",
    "# Create the output directory if it doesn't exist\n",
    "if not os.path.exists(output_dir):\n",
    "    os.makedirs(output_dir)\n",
    "\n",
    "html_placeholders = {}"
   ],
   "metadata": {
    "collapsed": false,
    "ExecuteTime": {
     "end_time": "2024-10-09T05:43:27.419271Z",
     "start_time": "2024-10-09T05:43:27.400233Z"
    }
   },
   "id": "a1dda76a6c1187f1",
   "execution_count": 28
  },
  {
   "cell_type": "code",
   "outputs": [],
   "source": [
    "for placeholder, image_path in image_data.items():\n",
    "    # Check if the image_path ends with \".html\"\n",
    "    if image_path.endswith('.html'):\n",
    "        # Convert HTML file to an image and save it\n",
    "        output_image_filename = f'{placeholder}.png'\n",
    "        hti.screenshot(html_file=image_path, save_as=output_image_filename)\n",
    "        \n",
    "        # Add the new image path (within output directory) to the html_placeholders dictionary\n",
    "        html_placeholders[placeholder] = os.path.join(output_dir, output_image_filename)"
   ],
   "metadata": {
    "collapsed": false,
    "ExecuteTime": {
     "end_time": "2024-10-09T05:43:55.807648Z",
     "start_time": "2024-10-09T05:43:28.247650Z"
    }
   },
   "id": "96c62276787f0424",
   "execution_count": 29
  },
  {
   "cell_type": "code",
   "outputs": [],
   "source": [
    "# Replace the HTML paths in the original image_data with the generated image paths\n",
    "for placeholder, new_image_path in html_placeholders.items():\n",
    "    image_data[placeholder] = new_image_path"
   ],
   "metadata": {
    "collapsed": false,
    "ExecuteTime": {
     "end_time": "2024-10-09T05:44:01.999705Z",
     "start_time": "2024-10-09T05:44:01.981693Z"
    }
   },
   "id": "e355aadb3ca36d67",
   "execution_count": 30
  },
  {
   "cell_type": "code",
   "outputs": [
    {
     "name": "stdout",
     "output_type": "stream",
     "text": [
      "Updated image_data: {'image_1': 'imgs\\\\image_1.png', 'image_2': 'https://www.livingsymphonies.com/news/wp-content/uploads/2013/12/forest-satellite.jpg', 'image_3': 'imgs\\\\image_3.png', 'image_4': 'imgs/Picture4.png'}\n"
     ]
    }
   ],
   "source": [
    "print(\"Updated image_data:\", image_data)"
   ],
   "metadata": {
    "collapsed": false,
    "ExecuteTime": {
     "end_time": "2024-10-09T05:44:03.504580Z",
     "start_time": "2024-10-09T05:44:03.496575Z"
    }
   },
   "id": "d72727f3c8161d1d",
   "execution_count": 31
  },
  {
   "cell_type": "code",
   "outputs": [],
   "source": [],
   "metadata": {
    "collapsed": false
   },
   "id": "69ad4abf7374b244"
  },
  {
   "cell_type": "code",
   "outputs": [],
   "source": [],
   "metadata": {
    "collapsed": false
   },
   "id": "52149d02c8ec99f"
  }
 ],
 "metadata": {
  "kernelspec": {
   "display_name": "Python 3",
   "language": "python",
   "name": "python3"
  },
  "language_info": {
   "codemirror_mode": {
    "name": "ipython",
    "version": 2
   },
   "file_extension": ".py",
   "mimetype": "text/x-python",
   "name": "python",
   "nbconvert_exporter": "python",
   "pygments_lexer": "ipython2",
   "version": "2.7.6"
  }
 },
 "nbformat": 4,
 "nbformat_minor": 5
}
